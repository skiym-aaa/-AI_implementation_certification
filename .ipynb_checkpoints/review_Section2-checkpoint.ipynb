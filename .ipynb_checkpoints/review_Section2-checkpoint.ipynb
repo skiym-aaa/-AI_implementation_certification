{
 "cells": [
  {
   "cell_type": "code",
   "execution_count": 1,
   "metadata": {},
   "outputs": [],
   "source": [
    "# 行列\n",
    "\n",
    "# 行列の掛け算\n",
    "# 前の行列の列数と後ろの行列の行数が一致しないと計算できない"
   ]
  },
  {
   "cell_type": "code",
   "execution_count": 2,
   "metadata": {},
   "outputs": [],
   "source": [
    "import numpy as np"
   ]
  },
  {
   "cell_type": "code",
   "execution_count": 4,
   "metadata": {},
   "outputs": [
    {
     "data": {
      "text/plain": [
       "array([16, 14])"
      ]
     },
     "execution_count": 4,
     "metadata": {},
     "output_type": "execute_result"
    }
   ],
   "source": [
    "x = np.array([1, 2])\n",
    "w = np.array([[4, 8], \n",
    "                       [6, 3]])\n",
    "\n",
    "x.dot(w)"
   ]
  },
  {
   "cell_type": "code",
   "execution_count": 5,
   "metadata": {},
   "outputs": [
    {
     "data": {
      "text/plain": [
       "array([48, 72, 19])"
      ]
     },
     "execution_count": 5,
     "metadata": {},
     "output_type": "execute_result"
    }
   ],
   "source": [
    "x = np.array([1, 4, 7])\n",
    "w = np.array([[2, 8, 7],\n",
    "                         [1, 9, 3],\n",
    "                         [6, 4, 0]])\n",
    "\n",
    "x.dot(w)"
   ]
  },
  {
   "cell_type": "code",
   "execution_count": 6,
   "metadata": {},
   "outputs": [
    {
     "data": {
      "text/plain": [
       "array([[48],\n",
       "       [45]])"
      ]
     },
     "execution_count": 6,
     "metadata": {},
     "output_type": "execute_result"
    }
   ],
   "source": [
    "w = np.array([\n",
    "        [4, 5],\n",
    "        [3, 6],\n",
    "])\n",
    "\n",
    "x = np.array([\n",
    "        [7],\n",
    "        [4]\n",
    "])\n",
    "\n",
    "w.dot(x)"
   ]
  },
  {
   "cell_type": "code",
   "execution_count": 7,
   "metadata": {},
   "outputs": [
    {
     "data": {
      "text/plain": [
       "array([[3],\n",
       "       [7]])"
      ]
     },
     "execution_count": 7,
     "metadata": {},
     "output_type": "execute_result"
    }
   ],
   "source": [
    "# バイアス\n",
    "\n",
    "a = np.array([\n",
    "        [1],\n",
    "        [3]\n",
    "])\n",
    "\n",
    "b = np.array([\n",
    "        [2],\n",
    "        [4]\n",
    "])\n",
    "\n",
    "a + b"
   ]
  },
  {
   "cell_type": "code",
   "execution_count": 8,
   "metadata": {},
   "outputs": [
    {
     "data": {
      "text/plain": [
       "array([[ 6,  8],\n",
       "       [10, 12]])"
      ]
     },
     "execution_count": 8,
     "metadata": {},
     "output_type": "execute_result"
    }
   ],
   "source": [
    "a = np.array([\n",
    "        [1, 2],\n",
    "        [3, 4]\n",
    "])\n",
    "\n",
    "b = np.array([\n",
    "        [5, 6],\n",
    "        [7, 8]\n",
    "])\n",
    "\n",
    "a + b"
   ]
  },
  {
   "cell_type": "code",
   "execution_count": 10,
   "metadata": {},
   "outputs": [
    {
     "data": {
      "text/plain": [
       "array([[62],\n",
       "       [45]])"
      ]
     },
     "execution_count": 10,
     "metadata": {},
     "output_type": "execute_result"
    }
   ],
   "source": [
    "w = np.array([\n",
    "        [3, 5],\n",
    "        [4, 2]\n",
    "])\n",
    "\n",
    "x = np.array([\n",
    "        [7],\n",
    "        [8]\n",
    "])\n",
    "\n",
    "b = np.array([\n",
    "        [1],\n",
    "        [1]\n",
    "])\n",
    "\n",
    "a = w.dot(x) + b\n",
    "a"
   ]
  },
  {
   "cell_type": "code",
   "execution_count": null,
   "metadata": {},
   "outputs": [],
   "source": [
    "# sigmoid関数"
   ]
  }
 ],
 "metadata": {
  "kernelspec": {
   "display_name": "Python 3",
   "language": "python",
   "name": "python3"
  },
  "language_info": {
   "codemirror_mode": {
    "name": "ipython",
    "version": 3
   },
   "file_extension": ".py",
   "mimetype": "text/x-python",
   "name": "python",
   "nbconvert_exporter": "python",
   "pygments_lexer": "ipython3",
   "version": "3.7.6"
  }
 },
 "nbformat": 4,
 "nbformat_minor": 4
}
