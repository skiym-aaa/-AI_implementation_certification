{
 "cells": [
  {
   "cell_type": "code",
   "execution_count": 1,
   "metadata": {},
   "outputs": [
    {
     "data": {
      "text/plain": [
       "6"
      ]
     },
     "execution_count": 1,
     "metadata": {},
     "output_type": "execute_result"
    }
   ],
   "source": [
    "import numpy as np\n",
    "y = np.array([1, 2, 3])\n",
    "np.sum(y)"
   ]
  },
  {
   "cell_type": "code",
   "execution_count": 5,
   "metadata": {},
   "outputs": [
    {
     "data": {
      "text/plain": [
       "0.039999999999999994"
      ]
     },
     "execution_count": 5,
     "metadata": {},
     "output_type": "execute_result"
    }
   ],
   "source": [
    "y = np.array([0.8, 0.2])\n",
    "t = np.array([1, 0])\n",
    "\n",
    "def mean_squared_error(y, t):\n",
    "        return 0.5 * np.sum((y-t)**2)\n",
    "\n",
    "E = mean_squared_error(y, t)\n",
    "E"
   ]
  },
  {
   "cell_type": "code",
   "execution_count": 28,
   "metadata": {},
   "outputs": [],
   "source": [
    "import numpy as np\n",
    "\n",
    "def sigmoid(a):\n",
    "        return 1 / (1 + np.exp(-a))\n",
    "    \n",
    "def mse(y, t):\n",
    "        return 0.5 * (np.sum((y-t)**2))\n",
    "    \n",
    "w = np.array([[0.1]])\n",
    "x = np.array([[3]])\n",
    "t = np.array([[1]])\n",
    "\n",
    "a = w.dot(x)\n",
    "y = sigmoid(a)\n",
    "E = mse(y, t)\n",
    "\n",
    "def diff(y, a, x):\n",
    "        return (y-1)*(1-sigmoid(a))*sigmoid(a)*x\n",
    "\n",
    "for _ in range(100):\n",
    "        w = w - diff(y, a, x)\n",
    "        a = w.dot(x)\n",
    "        y = sigmoid(a)\n",
    "        E = mse(y, t)"
   ]
  },
  {
   "cell_type": "code",
   "execution_count": 29,
   "metadata": {},
   "outputs": [
    {
     "data": {
      "text/plain": [
       "array([[0.97560325]])"
      ]
     },
     "execution_count": 29,
     "metadata": {},
     "output_type": "execute_result"
    }
   ],
   "source": [
    "y"
   ]
  },
  {
   "cell_type": "code",
   "execution_count": 30,
   "metadata": {},
   "outputs": [
    {
     "data": {
      "text/plain": [
       "0.0002976007276650773"
      ]
     },
     "execution_count": 30,
     "metadata": {},
     "output_type": "execute_result"
    }
   ],
   "source": [
    "E"
   ]
  },
  {
   "cell_type": "code",
   "execution_count": 36,
   "metadata": {},
   "outputs": [],
   "source": [
    "import numpy as np\n",
    "\n",
    "def sigmoid(a):\n",
    "        return 1 / (1 + np.exp(-a))\n",
    "\n",
    "def mse(y, t):\n",
    "        return 0.5 * (np.sum((y-t) ** 2))\n",
    "    \n",
    "w = np.array([[0.3, 0.4], [0.7, 0.9]])\n",
    "x = np.array([[2], [1]])\n",
    "t = np.array([[1], [0]])\n",
    "\n",
    "a = w.dot(x)\n",
    "y = sigmoid(a)\n",
    "E = mse(y, t)"
   ]
  },
  {
   "cell_type": "code",
   "execution_count": 37,
   "metadata": {},
   "outputs": [
    {
     "data": {
      "text/plain": [
       "array([[0.73105858],\n",
       "       [0.90887704]])"
      ]
     },
     "execution_count": 37,
     "metadata": {},
     "output_type": "execute_result"
    }
   ],
   "source": [
    "y"
   ]
  },
  {
   "cell_type": "code",
   "execution_count": 38,
   "metadata": {},
   "outputs": [
    {
     "data": {
      "text/plain": [
       "0.44919348006145793"
      ]
     },
     "execution_count": 38,
     "metadata": {},
     "output_type": "execute_result"
    }
   ],
   "source": [
    "E"
   ]
  },
  {
   "cell_type": "code",
   "execution_count": 43,
   "metadata": {},
   "outputs": [],
   "source": [
    "def diff(y, t, a, x):\n",
    "        return ((y-t) * (1-sigmoid(a)) * (sigmoid(a)).dot(x.T))\n",
    "\n",
    "w = w - diff(y, t, a, x)\n",
    "w\n",
    "\n",
    "a = w.dot(x)\n",
    "y = sigmoid(a)\n",
    "E =mse(y, t)"
   ]
  },
  {
   "cell_type": "code",
   "execution_count": 44,
   "metadata": {},
   "outputs": [
    {
     "data": {
      "text/plain": [
       "array([[0.85731382],\n",
       "       [0.76330909]])"
      ]
     },
     "execution_count": 44,
     "metadata": {},
     "output_type": "execute_result"
    }
   ],
   "source": [
    "y"
   ]
  },
  {
   "cell_type": "code",
   "execution_count": 45,
   "metadata": {},
   "outputs": [
    {
     "data": {
      "text/plain": [
       "0.3015000590757842"
      ]
     },
     "execution_count": 45,
     "metadata": {},
     "output_type": "execute_result"
    }
   ],
   "source": [
    "E"
   ]
  },
  {
   "cell_type": "code",
   "execution_count": 46,
   "metadata": {},
   "outputs": [],
   "source": [
    "for _ in range(100):\n",
    "        w = w -diff(y, t, a, x)\n",
    "        a = w.dot(x)\n",
    "        y = sigmoid(a)\n",
    "\n",
    "E = mse(y, t)"
   ]
  },
  {
   "cell_type": "code",
   "execution_count": 47,
   "metadata": {},
   "outputs": [
    {
     "data": {
      "text/plain": [
       "array([[ 1.25981738,  0.87990869],\n",
       "       [-1.56215244, -0.23107622]])"
      ]
     },
     "execution_count": 47,
     "metadata": {},
     "output_type": "execute_result"
    }
   ],
   "source": [
    "w"
   ]
  },
  {
   "cell_type": "code",
   "execution_count": 48,
   "metadata": {},
   "outputs": [
    {
     "data": {
      "text/plain": [
       "array([[0.96769026],\n",
       "       [0.03371939]])"
      ]
     },
     "execution_count": 48,
     "metadata": {},
     "output_type": "execute_result"
    }
   ],
   "source": [
    "y"
   ]
  },
  {
   "cell_type": "code",
   "execution_count": 49,
   "metadata": {},
   "outputs": [
    {
     "data": {
      "text/plain": [
       "0.0010904582973933004"
      ]
     },
     "execution_count": 49,
     "metadata": {},
     "output_type": "execute_result"
    }
   ],
   "source": [
    "E"
   ]
  },
  {
   "cell_type": "code",
   "execution_count": null,
   "metadata": {},
   "outputs": [],
   "source": []
  }
 ],
 "metadata": {
  "kernelspec": {
   "display_name": "Python 3",
   "language": "python",
   "name": "python3"
  },
  "language_info": {
   "codemirror_mode": {
    "name": "ipython",
    "version": 3
   },
   "file_extension": ".py",
   "mimetype": "text/x-python",
   "name": "python",
   "nbconvert_exporter": "python",
   "pygments_lexer": "ipython3",
   "version": "3.7.6"
  }
 },
 "nbformat": 4,
 "nbformat_minor": 4
}
