{
 "cells": [
  {
   "cell_type": "code",
   "execution_count": 1,
   "metadata": {},
   "outputs": [],
   "source": [
    "# 逆伝播\n",
    "\n",
    "# 正解値(True Value)\n",
    "\n",
    "# 出力値と正解値の間に生じた値を誤差\n",
    "\n",
    "# 誤差関数\n",
    "# 二乗和誤差"
   ]
  },
  {
   "cell_type": "code",
   "execution_count": 2,
   "metadata": {},
   "outputs": [
    {
     "data": {
      "text/plain": [
       "45"
      ]
     },
     "execution_count": 2,
     "metadata": {},
     "output_type": "execute_result"
    }
   ],
   "source": [
    "import numpy as np\n",
    "\n",
    "y = np.array([1, 2, 3, 4, 5, 6, 7, 8, 9])\n",
    "np.sum(y)"
   ]
  },
  {
   "cell_type": "code",
   "execution_count": 3,
   "metadata": {},
   "outputs": [
    {
     "data": {
      "text/plain": [
       "0.039999999999999994"
      ]
     },
     "execution_count": 3,
     "metadata": {},
     "output_type": "execute_result"
    }
   ],
   "source": [
    "def mean_squared_error(y, t):\n",
    "        return 0.5 * np.sum((y-t)**2)\n",
    "    \n",
    "y = np.array([0.8, 0.2])\n",
    "t = np.array([(1, 0)])\n",
    "\n",
    "E = mean_squared_error(y, t)\n",
    "E"
   ]
  },
  {
   "cell_type": "code",
   "execution_count": 4,
   "metadata": {},
   "outputs": [],
   "source": [
    "# 二次関数の微分値がマイナスの時は出力値は最小値より左側にある。\n",
    "# 二次関数の微分値がプラスの時は出力値は最小値より右側にある。"
   ]
  },
  {
   "cell_type": "code",
   "execution_count": 5,
   "metadata": {},
   "outputs": [],
   "source": [
    "# 誤差逆伝播法\n",
    "# yの更新式\n",
    "# y = y - dE / dy\n",
    "\n",
    "# wの更新式\n",
    "# w = w - dE / dw\n",
    "\n",
    "# 合成関数\n",
    "# これまで見てきた複数の関数から構成されている関数のこと\n",
    "\n",
    "# 連鎖率\n",
    "# ある関数が複数の関数から構成されている合成関数のときその関数のある点における微分は\n",
    "# 合成関数を構成するそれぞれの関数の微分値の掛け算で求めることができる\n",
    "\n",
    "# シグモイド関数の特徴\n",
    "# (1-sigmoid(a)) * sigmoid(a)\n",
    "# シグモイド関数の微分はシグモイド関数だけで表すことができる"
   ]
  },
  {
   "cell_type": "code",
   "execution_count": 6,
   "metadata": {},
   "outputs": [],
   "source": [
    "import numpy as np\n",
    "\n",
    "def sigmoid(a):\n",
    "        return 1 / (1 + np.exp(-a))\n",
    "\n",
    "def mse(y, t):\n",
    "        return 0.5 * (np.sum((y-t)**2))\n",
    "\n",
    "w = np.array([[0.1]])\n",
    "x = np.array([[3]])\n",
    "t = np.array([[1]])\n",
    "\n",
    "a = w.dot(x)\n",
    "y = sigmoid(a)\n",
    "E = mse(y, t)\n",
    "\n",
    "def diff(y, a, t):\n",
    "        return (y-1)*(1-sigmoid(a))*sigmoid(a)*x\n",
    "    \n",
    "for _ in range(100):\n",
    "        w = w - diff(y, a, x)\n",
    "        a = w.dot(x)\n",
    "        y = sigmoid(a)\n",
    "        E = mse(y, t)"
   ]
  },
  {
   "cell_type": "code",
   "execution_count": 7,
   "metadata": {},
   "outputs": [
    {
     "data": {
      "text/plain": [
       "array([[0.97560325]])"
      ]
     },
     "execution_count": 7,
     "metadata": {},
     "output_type": "execute_result"
    }
   ],
   "source": [
    "y"
   ]
  },
  {
   "cell_type": "code",
   "execution_count": 8,
   "metadata": {},
   "outputs": [
    {
     "data": {
      "text/plain": [
       "0.0002976007276650773"
      ]
     },
     "execution_count": 8,
     "metadata": {},
     "output_type": "execute_result"
    }
   ],
   "source": [
    "E"
   ]
  },
  {
   "cell_type": "code",
   "execution_count": 9,
   "metadata": {},
   "outputs": [],
   "source": [
    "# 1つの変数の値が決まると値が決まる関数を1変数関数\n",
    "# 2つ以上の変数によって値が決まる関数を多変数関数\n",
    "\n",
    "# 多角関数の、ある一つの変数に対しての傾きを調べるための微分を偏微分(ナプラ)\n",
    "# ある変数で対象の関数を偏微分するとき微分の対象でない方の変数は定数として扱う"
   ]
  },
  {
   "cell_type": "code",
   "execution_count": 10,
   "metadata": {},
   "outputs": [],
   "source": [
    "import numpy as np\n",
    "\n",
    "def sigmoid(a):\n",
    "        return 1 / (1 + np.exp(-a))\n",
    "\n",
    "def mse(y, t):\n",
    "        return 0.5 * (np.sum((y-t) ** 2))\n",
    "\n",
    "w = np.array([[0.3, 0.4], [0.7, 0.9]])\n",
    "x = np.array([[2], [1]])\n",
    "t = np.array([[1], [0]])\n",
    "a = w.dot(x)\n",
    "y = sigmoid(a)\n",
    "E = mse(y, t)"
   ]
  },
  {
   "cell_type": "code",
   "execution_count": 11,
   "metadata": {},
   "outputs": [
    {
     "data": {
      "text/plain": [
       "array([[0.73105858],\n",
       "       [0.90887704]])"
      ]
     },
     "execution_count": 11,
     "metadata": {},
     "output_type": "execute_result"
    }
   ],
   "source": [
    "y"
   ]
  },
  {
   "cell_type": "code",
   "execution_count": 12,
   "metadata": {},
   "outputs": [
    {
     "data": {
      "text/plain": [
       "0.44919348006145793"
      ]
     },
     "execution_count": 12,
     "metadata": {},
     "output_type": "execute_result"
    }
   ],
   "source": [
    "E"
   ]
  },
  {
   "cell_type": "code",
   "execution_count": 13,
   "metadata": {},
   "outputs": [
    {
     "data": {
      "text/plain": [
       "0.0011194658168959491"
      ]
     },
     "execution_count": 13,
     "metadata": {},
     "output_type": "execute_result"
    }
   ],
   "source": [
    "def diff(y, t, a, x):\n",
    "        return ((y-t) *(1-sigmoid(a))*(sigmoid(a))).dot(x.T)\n",
    "\n",
    "w = w - diff(y, t, a, x)\n",
    "\n",
    "a = w.dot(x)\n",
    "y = sigmoid(a)\n",
    "E = mse(y, t)\n",
    "\n",
    "for _ in range(100):\n",
    "        w = w - diff(y, t, a, x)\n",
    "        a = w.dot(x)\n",
    "        y = sigmoid(a)\n",
    "\n",
    "E = mse(y, t)\n",
    "E"
   ]
  },
  {
   "cell_type": "code",
   "execution_count": null,
   "metadata": {},
   "outputs": [],
   "source": [
    "# アダマール積\n",
    "# 行列の要素同士の掛け算(対応している要素同士の掛け算)\n",
    "# Numpyの行列同士を*で結んであげるとアダマール積を表現することができる"
   ]
  }
 ],
 "metadata": {
  "kernelspec": {
   "display_name": "Python 3",
   "language": "python",
   "name": "python3"
  },
  "language_info": {
   "codemirror_mode": {
    "name": "ipython",
    "version": 3
   },
   "file_extension": ".py",
   "mimetype": "text/x-python",
   "name": "python",
   "nbconvert_exporter": "python",
   "pygments_lexer": "ipython3",
   "version": "3.7.6"
  }
 },
 "nbformat": 4,
 "nbformat_minor": 4
}
